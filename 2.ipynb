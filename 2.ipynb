{
 "cells": [
  {
   "cell_type": "code",
   "execution_count": 2,
   "metadata": {},
   "outputs": [
    {
     "data": {
      "text/plain": [
       "' Strings in python is surrounded by either double quotation marks, or double quotation marks.\\n\\'hello\\' is same as \"hello\"\\nwe can display a stirng literal with the print() function'"
      ]
     },
     "execution_count": 2,
     "metadata": {},
     "output_type": "execute_result"
    }
   ],
   "source": [
    "# Strings\n",
    "''' Strings in python is surrounded by either double quotation marks, or double quotation marks.\n",
    "'hello' is same as \"hello\"\n",
    "we can display a stirng literal with the print() function'''"
   ]
  },
  {
   "cell_type": "code",
   "execution_count": 3,
   "metadata": {},
   "outputs": [
    {
     "name": "stdout",
     "output_type": "stream",
     "text": [
      "Hello\n",
      "Hello\n"
     ]
    }
   ],
   "source": [
    "print(\"Hello\")\n",
    "print('Hello')"
   ]
  },
  {
   "cell_type": "code",
   "execution_count": 5,
   "metadata": {},
   "outputs": [
    {
     "name": "stdout",
     "output_type": "stream",
     "text": [
      "Hello\n"
     ]
    }
   ],
   "source": [
    "# Assigning string to variable\n",
    "salutuation = \"Hello\"\n",
    "print(salutuation)"
   ]
  },
  {
   "cell_type": "code",
   "execution_count": 10,
   "metadata": {},
   "outputs": [
    {
     "name": "stdout",
     "output_type": "stream",
     "text": [
      "This is out first python program.\n",
      "Python is the base language for approaching towards data science\n"
     ]
    }
   ],
   "source": [
    "# Assigning multiple strings\n",
    "\n",
    "a = \"\"\"This is out first python program.\n",
    "Python is the base language for approaching towards data science\"\"\"\n",
    "print(a)\n",
    "\n",
    "\n",
    "# in this at the place of triple quotes we can use double quotes also\n"
   ]
  },
  {
   "cell_type": "code",
   "execution_count": 12,
   "metadata": {},
   "outputs": [
    {
     "name": "stdout",
     "output_type": "stream",
     "text": [
      "Aman Aman Aman Aman\n"
     ]
    }
   ],
   "source": [
    "a = \"Aman\" # It can be encapulated in single quote, double quote or triple quote\n",
    "b = 'Aman'\n",
    "c = '''Aman'''\n",
    "d = \"\"\"Aman\"\"\"\n",
    "print(a,b,c,d)"
   ]
  },
  {
   "cell_type": "code",
   "execution_count": 14,
   "metadata": {},
   "outputs": [
    {
     "name": "stdout",
     "output_type": "stream",
     "text": [
      "Aman's pen Aman's pen Aman's pen\n"
     ]
    }
   ],
   "source": [
    "a = \"Aman's pen\" # it can be encapulated in double quotes and triple quotes\n",
    "b = \"\"\"Aman's pen\"\"\"\n",
    "c = '''Aman's pen'''\n",
    "\n",
    "print(a,b,c)"
   ]
  },
  {
   "cell_type": "code",
   "execution_count": 15,
   "metadata": {},
   "outputs": [],
   "source": [
    "a = 'Aman is a \"data scientist\" as well as \"data analyst\" '# it can be encapsulated single or triple quote\n"
   ]
  },
  {
   "attachments": {},
   "cell_type": "markdown",
   "metadata": {},
   "source": [
    "# Strings are arrays\n",
    "\n",
    "Like many other programmming languages, strings in python are arrays of  bytes represnting unicode characters.\n",
    "\n",
    "However, Python does not have a character data type, a single character is simply a string with a length of 1\n",
    "\n",
    "Square bracket can be used to access elements of the strings"
   ]
  },
  {
   "cell_type": "code",
   "execution_count": 1,
   "metadata": {},
   "outputs": [
    {
     "name": "stdout",
     "output_type": "stream",
     "text": [
      "e\n"
     ]
    }
   ],
   "source": [
    "a = \"Hello World!\"\n",
    "print(a[1]) # Get the charcter at postion 1 (remember that the first character has positon is 0)"
   ]
  },
  {
   "cell_type": "code",
   "execution_count": 2,
   "metadata": {},
   "outputs": [
    {
     "name": "stdout",
     "output_type": "stream",
     "text": [
      "12\n"
     ]
    }
   ],
   "source": [
    "# String Length\n",
    "# To get the length of the string we use len() function\n",
    "\n",
    "print(len(a))"
   ]
  },
  {
   "cell_type": "code",
   "execution_count": 3,
   "metadata": {},
   "outputs": [
    {
     "data": {
      "text/plain": [
       "12"
      ]
     },
     "execution_count": 3,
     "metadata": {},
     "output_type": "execute_result"
    }
   ],
   "source": [
    "len(a)"
   ]
  },
  {
   "cell_type": "code",
   "execution_count": 5,
   "metadata": {},
   "outputs": [
    {
     "name": "stdout",
     "output_type": "stream",
     "text": [
      "The best things in the life are free!\n",
      "True\n",
      "True\n",
      "True\n",
      "False\n",
      "True\n"
     ]
    }
   ],
   "source": [
    "# To check if a certain pharase or character is present in a string, we can use the keyword \"in\"\n",
    "\n",
    "txt = \"The best things in the life are free!\"\n",
    "print(txt)\n",
    "print(\"free\" in txt)\n",
    "print(\"The\" in txt)\n",
    "print(\"the\" in txt)\n",
    "print(\"python\" in txt)\n",
    "print(\" \" in txt)"
   ]
  },
  {
   "cell_type": "code",
   "execution_count": 7,
   "metadata": {},
   "outputs": [
    {
     "name": "stdout",
     "output_type": "stream",
     "text": [
      "True\n",
      "False\n"
     ]
    }
   ],
   "source": [
    "# To check if a certain pharase or character is NOT present in a string, we can use the keyword \"not in\"\n",
    "txt = \"The best things in life is free!\"\n",
    "print(\"expensive\" not in txt)\n",
    "print(\"free\" not in txt)"
   ]
  },
  {
   "attachments": {},
   "cell_type": "markdown",
   "metadata": {},
   "source": [
    "# Slicing in Strings\n",
    " we can return a range of characters by using slice syntax\n",
    "    \n",
    " Specify the start index and the end index, seperated by a colon, to return of the string"
   ]
  },
  {
   "cell_type": "code",
   "execution_count": 15,
   "metadata": {},
   "outputs": [
    {
     "name": "stdout",
     "output_type": "stream",
     "text": [
      "llo\n"
     ]
    }
   ],
   "source": [
    "str = \"Hello, World!\"\n",
    "print(str[2:5])\n",
    "# array/string/iterable object\n",
    "# [start : stop : skip] --> here end in not included"
   ]
  },
  {
   "cell_type": "code",
   "execution_count": 16,
   "metadata": {},
   "outputs": [
    {
     "name": "stdout",
     "output_type": "stream",
     "text": [
      "Hello\n"
     ]
    }
   ],
   "source": [
    "# Slice from the start\n",
    "# By leaving out the start index, the range will start at the first character\n",
    "\n",
    "print(str[:5])"
   ]
  },
  {
   "cell_type": "code",
   "execution_count": 17,
   "metadata": {},
   "outputs": [
    {
     "name": "stdout",
     "output_type": "stream",
     "text": [
      ", World!\n"
     ]
    }
   ],
   "source": [
    "# Slice from the last\n",
    "# By leaving out the end index, the range will go to the end\n",
    "print(str[5:])"
   ]
  },
  {
   "cell_type": "code",
   "execution_count": 18,
   "metadata": {},
   "outputs": [
    {
     "name": "stdout",
     "output_type": "stream",
     "text": [
      "eoW\n"
     ]
    }
   ],
   "source": [
    "b = \"Hello, World!\"\n",
    "print(b[1:10:3])"
   ]
  },
  {
   "cell_type": "code",
   "execution_count": null,
   "metadata": {},
   "outputs": [],
   "source": [
    "# Negative Indexing\n",
    "\n",
    "# Use negative indexes to start the slice from the end of the string"
   ]
  }
 ],
 "metadata": {
  "kernelspec": {
   "display_name": "base",
   "language": "python",
   "name": "python3"
  },
  "language_info": {
   "codemirror_mode": {
    "name": "ipython",
    "version": 3
   },
   "file_extension": ".py",
   "mimetype": "text/x-python",
   "name": "python",
   "nbconvert_exporter": "python",
   "pygments_lexer": "ipython3",
   "version": "3.9.12"
  },
  "orig_nbformat": 4
 },
 "nbformat": 4,
 "nbformat_minor": 2
}
