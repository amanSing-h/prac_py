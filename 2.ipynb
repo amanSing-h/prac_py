{
 "cells": [
  {
   "cell_type": "code",
   "execution_count": 2,
   "metadata": {},
   "outputs": [
    {
     "data": {
      "text/plain": [
       "' Strings in python is surrounded by either double quotation marks, or double quotation marks.\\n\\'hello\\' is same as \"hello\"\\nwe can display a stirng literal with the print() function'"
      ]
     },
     "execution_count": 2,
     "metadata": {},
     "output_type": "execute_result"
    }
   ],
   "source": [
    "# Strings\n",
    "''' Strings in python is surrounded by either double quotation marks, or double quotation marks.\n",
    "'hello' is same as \"hello\"\n",
    "we can display a stirng literal with the print() function'''"
   ]
  },
  {
   "cell_type": "code",
   "execution_count": 3,
   "metadata": {},
   "outputs": [
    {
     "name": "stdout",
     "output_type": "stream",
     "text": [
      "Hello\n",
      "Hello\n"
     ]
    }
   ],
   "source": [
    "print(\"Hello\")\n",
    "print('Hello')"
   ]
  },
  {
   "cell_type": "code",
   "execution_count": 5,
   "metadata": {},
   "outputs": [
    {
     "name": "stdout",
     "output_type": "stream",
     "text": [
      "Hello\n"
     ]
    }
   ],
   "source": [
    "# Assigning string to variable\n",
    "salutuation = \"Hello\"\n",
    "print(salutuation)"
   ]
  },
  {
   "cell_type": "code",
   "execution_count": 10,
   "metadata": {},
   "outputs": [
    {
     "name": "stdout",
     "output_type": "stream",
     "text": [
      "This is out first python program.\n",
      "Python is the base language for approaching towards data science\n"
     ]
    }
   ],
   "source": [
    "# Assigning multiple strings\n",
    "\n",
    "a = \"\"\"This is out first python program.\n",
    "Python is the base language for approaching towards data science\"\"\"\n",
    "print(a)\n",
    "\n",
    "\n",
    "# in this at the place of triple quotes we can use double quotes also\n"
   ]
  },
  {
   "cell_type": "code",
   "execution_count": 12,
   "metadata": {},
   "outputs": [
    {
     "name": "stdout",
     "output_type": "stream",
     "text": [
      "Aman Aman Aman Aman\n"
     ]
    }
   ],
   "source": [
    "a = \"Aman\" # It can be encapulated in single quote, double quote or triple quote\n",
    "b = 'Aman'\n",
    "c = '''Aman'''\n",
    "d = \"\"\"Aman\"\"\"\n",
    "print(a,b,c,d)"
   ]
  },
  {
   "cell_type": "code",
   "execution_count": 14,
   "metadata": {},
   "outputs": [
    {
     "name": "stdout",
     "output_type": "stream",
     "text": [
      "Aman's pen Aman's pen Aman's pen\n"
     ]
    }
   ],
   "source": [
    "a = \"Aman's pen\" # it can be encapulated in double quotes and triple quotes\n",
    "b = \"\"\"Aman's pen\"\"\"\n",
    "c = '''Aman's pen'''\n",
    "\n",
    "print(a,b,c)"
   ]
  },
  {
   "cell_type": "code",
   "execution_count": 15,
   "metadata": {},
   "outputs": [],
   "source": [
    "a = 'Aman is a \"data scientist\" as well as \"data analyst\" '# it can be encapsulated single or triple quote\n"
   ]
  },
  {
   "attachments": {},
   "cell_type": "markdown",
   "metadata": {},
   "source": [
    "# Strings are arrays\n",
    "\n",
    "Like many other programmming languages, strings in python are arrays of  bytes represnting unicode characters.\n",
    "\n",
    "However, Python does not have a character data type, a single character is simply a string with a length of 1\n",
    "\n",
    "Square bracket can be used to access elements of the strings"
   ]
  },
  {
   "cell_type": "code",
   "execution_count": 1,
   "metadata": {},
   "outputs": [
    {
     "name": "stdout",
     "output_type": "stream",
     "text": [
      "e\n"
     ]
    }
   ],
   "source": [
    "a = \"Hello World!\"\n",
    "print(a[1]) # Get the charcter at postion 1 (remember that the first character has positon is 0)"
   ]
  },
  {
   "cell_type": "code",
   "execution_count": 2,
   "metadata": {},
   "outputs": [
    {
     "name": "stdout",
     "output_type": "stream",
     "text": [
      "12\n"
     ]
    }
   ],
   "source": [
    "# String Length\n",
    "# To get the length of the string we use len() function\n",
    "\n",
    "print(len(a))"
   ]
  },
  {
   "cell_type": "code",
   "execution_count": 3,
   "metadata": {},
   "outputs": [
    {
     "data": {
      "text/plain": [
       "12"
      ]
     },
     "execution_count": 3,
     "metadata": {},
     "output_type": "execute_result"
    }
   ],
   "source": [
    "len(a)"
   ]
  },
  {
   "cell_type": "code",
   "execution_count": 5,
   "metadata": {},
   "outputs": [
    {
     "name": "stdout",
     "output_type": "stream",
     "text": [
      "The best things in the life are free!\n",
      "True\n",
      "True\n",
      "True\n",
      "False\n",
      "True\n"
     ]
    }
   ],
   "source": [
    "# To check if a certain pharase or character is present in a string, we can use the keyword \"in\"\n",
    "\n",
    "txt = \"The best things in the life are free!\"\n",
    "print(txt)\n",
    "print(\"free\" in txt)\n",
    "print(\"The\" in txt)\n",
    "print(\"the\" in txt)\n",
    "print(\"python\" in txt)\n",
    "print(\" \" in txt)"
   ]
  },
  {
   "cell_type": "code",
   "execution_count": 7,
   "metadata": {},
   "outputs": [
    {
     "name": "stdout",
     "output_type": "stream",
     "text": [
      "True\n",
      "False\n"
     ]
    }
   ],
   "source": [
    "# To check if a certain pharase or character is NOT present in a string, we can use the keyword \"not in\"\n",
    "txt = \"The best things in life is free!\"\n",
    "print(\"expensive\" not in txt)\n",
    "print(\"free\" not in txt)"
   ]
  },
  {
   "attachments": {},
   "cell_type": "markdown",
   "metadata": {},
   "source": [
    "# Slicing in Strings\n",
    " we can return a range of characters by using slice syntax\n",
    "    \n",
    " Specify the start index and the end index, seperated by a colon, to return of the string"
   ]
  },
  {
   "cell_type": "code",
   "execution_count": 15,
   "metadata": {},
   "outputs": [
    {
     "name": "stdout",
     "output_type": "stream",
     "text": [
      "llo\n"
     ]
    }
   ],
   "source": [
    "str = \"Hello, World!\"\n",
    "print(str[2:5])\n",
    "# array/string/iterable object\n",
    "# [start : stop : skip] --> here end in not included"
   ]
  },
  {
   "cell_type": "code",
   "execution_count": 16,
   "metadata": {},
   "outputs": [
    {
     "name": "stdout",
     "output_type": "stream",
     "text": [
      "Hello\n"
     ]
    }
   ],
   "source": [
    "# Slice from the start\n",
    "# By leaving out the start index, the range will start at the first character\n",
    "\n",
    "print(str[:5])"
   ]
  },
  {
   "cell_type": "code",
   "execution_count": 17,
   "metadata": {},
   "outputs": [
    {
     "name": "stdout",
     "output_type": "stream",
     "text": [
      ", World!\n"
     ]
    }
   ],
   "source": [
    "# Slice from the last\n",
    "# By leaving out the end index, the range will go to the end\n",
    "print(str[5:])"
   ]
  },
  {
   "cell_type": "code",
   "execution_count": 18,
   "metadata": {},
   "outputs": [
    {
     "name": "stdout",
     "output_type": "stream",
     "text": [
      "eoW\n"
     ]
    }
   ],
   "source": [
    "b = \"Hello, World!\"\n",
    "print(b[1:10:3])"
   ]
  },
  {
   "cell_type": "code",
   "execution_count": 32,
   "metadata": {},
   "outputs": [
    {
     "name": "stdout",
     "output_type": "stream",
     "text": [
      "r\n",
      "orl\n"
     ]
    }
   ],
   "source": [
    "# Negative Indexing\n",
    "\n",
    "# Use negative indexes to start the slice from the end of the string\n",
    "\n",
    "'''\n",
    "H   e   l   l   o   ,   W   o   r   l   d   ! --> input string\n",
    "0   1   2   3   4   5   6   7   8   9   10  11 --> positive index\n",
    "-12 -11 -10 -9  -8  -7  -6  -5  -4  -3  -2  -1 --> negative index\n",
    "'''\n",
    "\n",
    "#NOTE: Whitespace is counted as a charcter\n",
    "\n",
    "b = \"Hello,World!\"\n",
    "print(b[-4]) # extracting r from string b\n",
    "print(b[-5:-2]) # start from -5 and stop at -2"
   ]
  },
  {
   "cell_type": "code",
   "execution_count": 39,
   "metadata": {},
   "outputs": [
    {
     "name": "stdout",
     "output_type": "stream",
     "text": [
      "Wrd\n",
      "Wrd\n",
      "\n"
     ]
    },
    {
     "data": {
      "text/plain": [
       "''"
      ]
     },
     "execution_count": 39,
     "metadata": {},
     "output_type": "execute_result"
    }
   ],
   "source": [
    "print(b[6:11:2]) # positive indexing\n",
    "print(b[-6:-1:2]) # negative indexing\n",
    "\n",
    "print(b[-6:-1:-2])\n",
    "b[-6:-1:-2]\n"
   ]
  },
  {
   "attachments": {},
   "cell_type": "markdown",
   "metadata": {},
   "source": [
    "# Modification in Strings"
   ]
  },
  {
   "cell_type": "code",
   "execution_count": 3,
   "metadata": {},
   "outputs": [
    {
     "name": "stdout",
     "output_type": "stream",
     "text": [
      "HELLO WORLD\n",
      "hello world\n"
     ]
    }
   ],
   "source": [
    "a = \"Hello World\"\n",
    "print(a.upper()) # The Upper() method returns the string in upper case\n",
    "print(a.lower()) #The  lower() method returns the string in lower case"
   ]
  },
  {
   "cell_type": "markdown",
   "metadata": {},
   "source": [
    "# Remove whitespace"
   ]
  },
  {
   "cell_type": "code",
   "execution_count": 5,
   "metadata": {},
   "outputs": [
    {
     "name": "stdout",
     "output_type": "stream",
     "text": [
      "17\n",
      "Hello World\n",
      "11\n"
     ]
    }
   ],
   "source": [
    "\"\"\"\n",
    "Whitespace is the space before and/or after the actual text.\n",
    "\n",
    "The strip() method removes any whitespaces from the begnning or the end\n",
    "\"\"\"\n",
    "\n",
    "a = \"Hello World      \"\n",
    "print(len(a))\n",
    "print(a.strip())\n",
    "print(len(a.strip()))"
   ]
  },
  {
   "cell_type": "code",
   "execution_count": 13,
   "metadata": {},
   "outputs": [
    {
     "name": "stdout",
     "output_type": "stream",
     "text": [
      "    Hello world   \n",
      "18\n",
      "Hello World\n",
      "11\n",
      "Hello World\n",
      "11\n",
      "Hello World      \n",
      "17\n"
     ]
    }
   ],
   "source": [
    "txt = \"    Hello world   \"\n",
    "print(txt)\n",
    "print(len(txt))\n",
    "\n",
    "print(a.strip())\n",
    "print(len(a.strip()))\n",
    "\n",
    "print(a.rstrip()) # it will remove the whitespaces from right\n",
    "print(len(a.rstrip()))\n",
    "\n",
    "\n",
    "print(a.lstrip()) # it will remove the whitespaces from left\n",
    "print(len(a.lstrip()))"
   ]
  },
  {
   "cell_type": "markdown",
   "metadata": {},
   "source": [
    "# Replacing a String"
   ]
  },
  {
   "cell_type": "code",
   "execution_count": 15,
   "metadata": {},
   "outputs": [
    {
     "name": "stdout",
     "output_type": "stream",
     "text": [
      "Helljj Wjjrld\n",
      "Hello World\n"
     ]
    }
   ],
   "source": [
    "# The replace() method replaces a string with another string\n",
    "\n",
    "a = \"Hello World\"\n",
    "\n",
    "print(a.replace(\"o\",\"jj\"))\n",
    "print(a.replace('L',\"Z\")) #not replaced as strings are case sensitive and it will not give error, give the original text"
   ]
  },
  {
   "cell_type": "markdown",
   "metadata": {},
   "source": [
    "# Split String"
   ]
  },
  {
   "cell_type": "code",
   "execution_count": 18,
   "metadata": {},
   "outputs": [
    {
     "name": "stdout",
     "output_type": "stream",
     "text": [
      "['Hello', ' World']\n",
      "['Hello', 'world']\n"
     ]
    },
    {
     "ename": "ValueError",
     "evalue": "empty separator",
     "output_type": "error",
     "traceback": [
      "\u001b[1;31m---------------------------------------------------------------------------\u001b[0m",
      "\u001b[1;31mValueError\u001b[0m                                Traceback (most recent call last)",
      "Input \u001b[1;32mIn [18]\u001b[0m, in \u001b[0;36m<cell line: 10>\u001b[1;34m()\u001b[0m\n\u001b[0;32m      7\u001b[0m \u001b[38;5;28mprint\u001b[39m(a\u001b[38;5;241m.\u001b[39msplit(\u001b[38;5;124m\"\u001b[39m\u001b[38;5;124m \u001b[39m\u001b[38;5;124m\"\u001b[39m))\n\u001b[0;32m      9\u001b[0m a\u001b[38;5;241m=\u001b[39m \u001b[38;5;124m\"\u001b[39m\u001b[38;5;124mHello world\u001b[39m\u001b[38;5;124m\"\u001b[39m\n\u001b[1;32m---> 10\u001b[0m \u001b[38;5;28mprint\u001b[39m(\u001b[43ma\u001b[49m\u001b[38;5;241;43m.\u001b[39;49m\u001b[43msplit\u001b[49m\u001b[43m(\u001b[49m\u001b[38;5;124;43m\"\u001b[39;49m\u001b[38;5;124;43m\"\u001b[39;49m\u001b[43m)\u001b[49m)\n",
      "\u001b[1;31mValueError\u001b[0m: empty separator"
     ]
    }
   ],
   "source": [
    "# The split() method return a list where the text between the specified seperator becomes the list items\n",
    "\n",
    "a = \"Hello, World\"\n",
    "print(a.split(\",\"))\n",
    "\n",
    "a= \"Hello world\"\n",
    "print(a.split(\" \"))\n",
    "\n",
    "a= \"Hello world\"\n",
    "print(a.split(\"\")) # it will give error as empty seperator"
   ]
  },
  {
   "cell_type": "markdown",
   "metadata": {},
   "source": [
    "# String Concatenation"
   ]
  },
  {
   "cell_type": "code",
   "execution_count": 19,
   "metadata": {},
   "outputs": [
    {
     "name": "stdout",
     "output_type": "stream",
     "text": [
      "HelloWorld\n",
      "Hello World\n"
     ]
    }
   ],
   "source": [
    "# To concatenate, or combine two strings, we can use the + operator\n",
    "\n",
    "a = \"Hello\"\n",
    "b = \"World\"\n",
    "c = a+b # without space concatenation\n",
    "print(c)\n",
    "\n",
    "c = a+ \" \" + b # with space concatenation\n",
    "print(c)\n",
    "\n"
   ]
  },
  {
   "cell_type": "code",
   "execution_count": 20,
   "metadata": {},
   "outputs": [
    {
     "ename": "TypeError",
     "evalue": "can only concatenate str (not \"int\") to str",
     "output_type": "error",
     "traceback": [
      "\u001b[1;31m---------------------------------------------------------------------------\u001b[0m",
      "\u001b[1;31mTypeError\u001b[0m                                 Traceback (most recent call last)",
      "Input \u001b[1;32mIn [20]\u001b[0m, in \u001b[0;36m<cell line: 2>\u001b[1;34m()\u001b[0m\n\u001b[0;32m      1\u001b[0m age \u001b[38;5;241m=\u001b[39m \u001b[38;5;241m36\u001b[39m \u001b[38;5;66;03m# integer\u001b[39;00m\n\u001b[1;32m----> 2\u001b[0m txt \u001b[38;5;241m=\u001b[39m \u001b[38;5;124;43m\"\u001b[39;49m\u001b[38;5;124;43mJohn is \u001b[39;49m\u001b[38;5;124;43m\"\u001b[39;49m\u001b[43m \u001b[49m\u001b[38;5;241;43m+\u001b[39;49m\u001b[43m \u001b[49m\u001b[43mage\u001b[49m \u001b[38;5;241m+\u001b[39m \u001b[38;5;124m\"\u001b[39m\u001b[38;5;124m years older\u001b[39m\u001b[38;5;124m\"\u001b[39m\n\u001b[0;32m      3\u001b[0m \u001b[38;5;28mprint\u001b[39m(txt)\n",
      "\u001b[1;31mTypeError\u001b[0m: can only concatenate str (not \"int\") to str"
     ]
    }
   ],
   "source": [
    "age = 36 # integer\n",
    "txt = \"John is \" + age + \" years older\" # error-> cannot combine string and integer\n",
    "print(txt) "
   ]
  },
  {
   "cell_type": "code",
   "execution_count": 21,
   "metadata": {},
   "outputs": [
    {
     "name": "stdout",
     "output_type": "stream",
     "text": [
      "John is 36 years older\n"
     ]
    }
   ],
   "source": [
    "# We can combine strings and numbers by using the format() method or type casting\n",
    "\n",
    "# type casting\n",
    "age = 36 # integer\n",
    "txt = \"John is \" + str(age) + \" years older\"\n",
    "print(txt) "
   ]
  },
  {
   "cell_type": "code",
   "execution_count": 22,
   "metadata": {},
   "outputs": [
    {
     "name": "stdout",
     "output_type": "stream",
     "text": [
      "John is 36 years older\n"
     ]
    }
   ],
   "source": [
    "# The format() method takes the passed arguments, formats them, and places them in the string where the placeholder {}\n",
    "\n",
    "age = 36 # integer\n",
    "txt = \"John is {} years older\"\n",
    "print(txt.format(age)) "
   ]
  },
  {
   "cell_type": "code",
   "execution_count": 26,
   "metadata": {},
   "outputs": [
    {
     "name": "stdout",
     "output_type": "stream",
     "text": [
      "I want 3 pieces of item 567 for 49.95 dollars.\n",
      "I want 567 pieces of item 49.95 for 3 dollars.\n"
     ]
    }
   ],
   "source": [
    "#  The format method takes unlimited numvber of arguments, and are plced into the respective placeholders\n",
    "\n",
    "quantity = 3\n",
    "itemno = 567\n",
    "price = 49.95\n",
    "myorder = \"I want {} pieces of item {} for {} dollars.\"\n",
    "print(myorder.format(quantity, itemno, price))\n",
    "\n",
    "print(myorder.format(itemno, price, quantity))"
   ]
  },
  {
   "cell_type": "code",
   "execution_count": 28,
   "metadata": {},
   "outputs": [
    {
     "name": "stdout",
     "output_type": "stream",
     "text": [
      "I want 3 pieces of item 567 for 49.95 dollars.\n"
     ]
    }
   ],
   "source": [
    "# We can use index number {0} to be sure the arguments are placed in the correct palaceholders\n",
    "\n",
    "quantity = 3\n",
    "itemno = 567\n",
    "price = 49.95\n",
    "myorder = \"I want {0} pieces of item {1} for {2} dollars.\"\n",
    "print(myorder.format(quantity, itemno, price))"
   ]
  },
  {
   "cell_type": "code",
   "execution_count": 29,
   "metadata": {},
   "outputs": [
    {
     "name": "stdout",
     "output_type": "stream",
     "text": [
      "I want to pay 49.95 dollars for 3 pieces of item 567.\n"
     ]
    }
   ],
   "source": [
    "quantity = 3\n",
    "itemno = 567\n",
    "price = 49.95\n",
    "myorder = \"I want to pay {2} dollars for {0} pieces of item {1}.\"\n",
    "print(myorder.format(quantity, itemno, price))"
   ]
  },
  {
   "cell_type": "markdown",
   "metadata": {},
   "source": [
    "# Escape Character"
   ]
  },
  {
   "cell_type": "code",
   "execution_count": null,
   "metadata": {},
   "outputs": [],
   "source": []
  },
  {
   "cell_type": "markdown",
   "metadata": {},
   "source": [
    "# String Methods"
   ]
  },
  {
   "cell_type": "markdown",
   "metadata": {},
   "source": [
    "# Capitalize -> it converts the first character to upper case\n",
    "a = he"
   ]
  }
 ],
 "metadata": {
  "kernelspec": {
   "display_name": "base",
   "language": "python",
   "name": "python3"
  },
  "language_info": {
   "codemirror_mode": {
    "name": "ipython",
    "version": 3
   },
   "file_extension": ".py",
   "mimetype": "text/x-python",
   "name": "python",
   "nbconvert_exporter": "python",
   "pygments_lexer": "ipython3",
   "version": "3.9.12"
  },
  "orig_nbformat": 4
 },
 "nbformat": 4,
 "nbformat_minor": 2
}
