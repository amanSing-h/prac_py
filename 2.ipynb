{
 "cells": [
  {
   "cell_type": "code",
   "execution_count": 2,
   "metadata": {},
   "outputs": [
    {
     "data": {
      "text/plain": [
       "' Strings in python is surrounded by either double quotation marks, or double quotation marks.\\n\\'hello\\' is same as \"hello\"\\nwe can display a stirng literal with the print() function'"
      ]
     },
     "execution_count": 2,
     "metadata": {},
     "output_type": "execute_result"
    }
   ],
   "source": [
    "# Strings\n",
    "''' Strings in python is surrounded by either double quotation marks, or double quotation marks.\n",
    "'hello' is same as \"hello\"\n",
    "we can display a stirng literal with the print() function'''"
   ]
  },
  {
   "cell_type": "code",
   "execution_count": 3,
   "metadata": {},
   "outputs": [
    {
     "name": "stdout",
     "output_type": "stream",
     "text": [
      "Hello\n",
      "Hello\n"
     ]
    }
   ],
   "source": [
    "print(\"Hello\")\n",
    "print('Hello')"
   ]
  },
  {
   "cell_type": "code",
   "execution_count": 5,
   "metadata": {},
   "outputs": [
    {
     "name": "stdout",
     "output_type": "stream",
     "text": [
      "Hello\n"
     ]
    }
   ],
   "source": [
    "# Assigning string to variable\n",
    "salutuation = \"Hello\"\n",
    "print(salutuation)"
   ]
  },
  {
   "cell_type": "code",
   "execution_count": 10,
   "metadata": {},
   "outputs": [
    {
     "name": "stdout",
     "output_type": "stream",
     "text": [
      "This is out first python program.\n",
      "Python is the base language for approaching towards data science\n"
     ]
    }
   ],
   "source": [
    "# Assigning multiple strings\n",
    "\n",
    "a = \"\"\"This is out first python program.\n",
    "Python is the base language for approaching towards data science\"\"\"\n",
    "print(a)\n",
    "\n",
    "\n",
    "# in this at the place of triple quotes we can use double quotes also\n"
   ]
  },
  {
   "cell_type": "code",
   "execution_count": 12,
   "metadata": {},
   "outputs": [
    {
     "name": "stdout",
     "output_type": "stream",
     "text": [
      "Aman Aman Aman Aman\n"
     ]
    }
   ],
   "source": [
    "a = \"Aman\" # It can be encapulated in single quote, double quote or triple quote\n",
    "b = 'Aman'\n",
    "c = '''Aman'''\n",
    "d = \"\"\"Aman\"\"\"\n",
    "print(a,b,c,d)"
   ]
  },
  {
   "cell_type": "code",
   "execution_count": 14,
   "metadata": {},
   "outputs": [
    {
     "name": "stdout",
     "output_type": "stream",
     "text": [
      "Aman's pen Aman's pen Aman's pen\n"
     ]
    }
   ],
   "source": [
    "a = \"Aman's pen\" # it can be encapulated in double quotes and triple quotes\n",
    "b = \"\"\"Aman's pen\"\"\"\n",
    "c = '''Aman's pen'''\n",
    "\n",
    "print(a,b,c)"
   ]
  },
  {
   "cell_type": "code",
   "execution_count": 15,
   "metadata": {},
   "outputs": [],
   "source": [
    "a = 'Aman is a \"data scientist\" as well as \"data analyst\" '# it can be encapsulated single or triple quote\n"
   ]
  },
  {
   "attachments": {},
   "cell_type": "markdown",
   "metadata": {},
   "source": [
    "# Strings are arrays\n",
    "\n",
    "Like many other programmming languages, strings in python are arrays of  bytes represnting unicode characters.\n",
    "\n",
    "However, Python does not have a character data type, a single character is simply a string with a length of 1\n",
    "\n",
    "Square bracket can be used to access elements of the strings"
   ]
  },
  {
   "cell_type": "markdown",
   "metadata": {},
   "source": []
  }
 ],
 "metadata": {
  "kernelspec": {
   "display_name": "base",
   "language": "python",
   "name": "python3"
  },
  "language_info": {
   "codemirror_mode": {
    "name": "ipython",
    "version": 3
   },
   "file_extension": ".py",
   "mimetype": "text/x-python",
   "name": "python",
   "nbconvert_exporter": "python",
   "pygments_lexer": "ipython3",
   "version": "3.9.12"
  },
  "orig_nbformat": 4
 },
 "nbformat": 4,
 "nbformat_minor": 2
}
