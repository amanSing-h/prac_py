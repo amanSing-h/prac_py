{
 "cells": [
  {
   "cell_type": "markdown",
   "metadata": {},
   "source": [
    "# Conditional Statements in Python"
   ]
  },
  {
   "cell_type": "markdown",
   "metadata": {},
   "source": [
    "Python has six conditional statements that are used in decision making\n",
    "\n",
    "1. if statement\n",
    "2. if else statement\n",
    "3. nested if statement\n",
    "4. if...elif ladder\n",
    "5. short hand if statement\n",
    "6. short hand if else statement"
   ]
  },
  {
   "cell_type": "code",
   "execution_count": 1,
   "metadata": {},
   "outputs": [
    {
     "data": {
      "text/plain": [
       "'\\nSyntax ->\\n\\nif expression:\\n    statement\\n\\n    \"if the condition is true, the statement will be executed\\n'"
      ]
     },
     "execution_count": 1,
     "metadata": {},
     "output_type": "execute_result"
    }
   ],
   "source": [
    "# If statement\n",
    "\n",
    "'''\n",
    "Syntax ->\n",
    "\n",
    "if expression:\n",
    "    statement\n",
    "\n",
    "    \"if the condition is true, the statement will be executed\n",
    "'''"
   ]
  },
  {
   "cell_type": "code",
   "execution_count": 2,
   "metadata": {},
   "outputs": [
    {
     "name": "stdout",
     "output_type": "stream",
     "text": [
      "5  is a positive number.\n",
      "This statement is true\n"
     ]
    }
   ],
   "source": [
    "num = 5\n",
    "if num > 0:\n",
    "    print(num, \" is a positive number.\")\n",
    "print(\"This statement is true\")"
   ]
  },
  {
   "cell_type": "code",
   "execution_count": 3,
   "metadata": {},
   "outputs": [
    {
     "name": "stdout",
     "output_type": "stream",
     "text": [
      "b is greater\n"
     ]
    }
   ],
   "source": [
    "a = 25\n",
    "b =170\n",
    "if b > a:\n",
    "    print(\"b is greater\")"
   ]
  },
  {
   "cell_type": "code",
   "execution_count": 4,
   "metadata": {},
   "outputs": [
    {
     "data": {
      "text/plain": [
       "'\\nThis statement is used when both the true and false parts of codition\\nis specified to be executed. When the condition is true, the statement\\ninside if block is executed; if the condition is false, the statement\\noutside the if block is executed.\\n\\n\\nSyntax:\\n\\nif condition:\\n    #will executes this block if the condition is true\\nelse:\\n    #will executes this block if the condition is false\\n'"
      ]
     },
     "execution_count": 4,
     "metadata": {},
     "output_type": "execute_result"
    }
   ],
   "source": [
    "# if else statemetn\n",
    "\n",
    "'''\n",
    "This statement is used when both the true and false parts of codition\n",
    "is specified to be executed. When the condition is true, the statement\n",
    "inside if block is executed; if the condition is false, the statement\n",
    "outside the if block is executed.\n",
    "\n",
    "\n",
    "Syntax:\n",
    "\n",
    "if condition:\n",
    "    #will executes this block if the condition is true\n",
    "else:\n",
    "    #will executes this block if the condition is false\n",
    "'''"
   ]
  },
  {
   "cell_type": "code",
   "execution_count": 5,
   "metadata": {},
   "outputs": [
    {
     "name": "stdout",
     "output_type": "stream",
     "text": [
      "Positive or zero\n"
     ]
    }
   ],
   "source": [
    "num = 5\n",
    "if num >= 0:\n",
    "    print(\"Positive or zero\")\n",
    "else:\n",
    "    print(\"negative\")"
   ]
  },
  {
   "cell_type": "code",
   "execution_count": 6,
   "metadata": {},
   "outputs": [
    {
     "name": "stdout",
     "output_type": "stream",
     "text": [
      "negative\n"
     ]
    }
   ],
   "source": [
    "num = -1\n",
    "if num >= 0:\n",
    "    print(\"Positive or zero\")\n",
    "else:\n",
    "    print(\"negative\")"
   ]
  },
  {
   "cell_type": "code",
   "execution_count": 7,
   "metadata": {},
   "outputs": [
    {
     "data": {
      "text/plain": [
       "'\\nIn this case, the if condition is evaluatd first. if it is false,\\nthe elif statement will be executed; if it also comes false, the\\nelse statement will be executed.\\n\\nSyntax->\\n\\nif condito:\\n    body of if\\nelif condition:\\n    body of elif\\nelse:\\n    body of else\\n'"
      ]
     },
     "execution_count": 7,
     "metadata": {},
     "output_type": "execute_result"
    }
   ],
   "source": [
    "# if...Elif..else statement\n",
    "'''\n",
    "In this case, the if condition is evaluatd first. if it is false,\n",
    "the elif statement will be executed; if it also comes false, the\n",
    "else statement will be executed.\n",
    "\n",
    "Syntax->\n",
    "\n",
    "if condito:\n",
    "    body of if\n",
    "elif condition:\n",
    "    body of elif\n",
    "else:\n",
    "    body of else\n",
    "'''"
   ]
  },
  {
   "cell_type": "code",
   "execution_count": 8,
   "metadata": {},
   "outputs": [
    {
     "name": "stdout",
     "output_type": "stream",
     "text": [
      "positive\n"
     ]
    }
   ],
   "source": [
    "num = 7 \n",
    "if num > 0:\n",
    "    print(\"positive\")\n",
    "elif num ==0:\n",
    "    print(\"zero\")\n",
    "else:\n",
    "    print(\"negative\")\n"
   ]
  },
  {
   "cell_type": "code",
   "execution_count": 10,
   "metadata": {},
   "outputs": [
    {
     "data": {
      "text/plain": [
       "'\\nA nested if statement is one which an if statement is nested inside\\nanother if statement. This is used when a variable must be processed\\nmore than once. If, if-else, and if...elif...else statements can be\\nused in the program. In Nested if statemets, the indentation to \\ndetermine the scope of each statement should take precedence\\n\\nSyntax ->\\n\\nif(conditon1):\\n    #executes if condition 1 is true\\n    if(condition2):\\n        #executes if conditon w is true\\n        \\n        #conditon2 ends here\\n#condition1 ends here\\n'"
      ]
     },
     "execution_count": 10,
     "metadata": {},
     "output_type": "execute_result"
    }
   ],
   "source": [
    "# Nested if statement\n",
    "'''\n",
    "A nested if statement is one which an if statement is nested inside\n",
    "another if statement. This is used when a variable must be processed\n",
    "more than once. If, if-else, and if...elif...else statements can be\n",
    "used in the program. In Nested if statemets, the indentation to \n",
    "determine the scope of each statement should take precedence\n",
    "\n",
    "Syntax ->\n",
    "\n",
    "if(conditon1):\n",
    "    #executes if condition 1 is true\n",
    "    if(condition2):\n",
    "        #executes if conditon w is true\n",
    "        \n",
    "        #conditon2 ends here\n",
    "#condition1 ends here\n",
    "'''"
   ]
  },
  {
   "cell_type": "code",
   "execution_count": 11,
   "metadata": {},
   "outputs": [
    {
     "name": "stdout",
     "output_type": "stream",
     "text": [
      "positive\n"
     ]
    }
   ],
   "source": [
    "num = 8\n",
    "if num >= 0:\n",
    "    if num == 0:\n",
    "        print(\"zero\")\n",
    "    else:\n",
    "        print(\"positive\")\n",
    "else:\n",
    "    print(\"negative\")"
   ]
  },
  {
   "cell_type": "code",
   "execution_count": 12,
   "metadata": {},
   "outputs": [
    {
     "name": "stdout",
     "output_type": "stream",
     "text": [
      "The amount is between 400 and 1000\n"
     ]
    }
   ],
   "source": [
    "price = 50\n",
    "quantity = 10\n",
    "amount= price*quantity\n",
    "if amount > 200:\n",
    "    if amount > 1000:\n",
    "        print(\"The amount is greater than 1000\")\n",
    "    elif amount >=800:\n",
    "        print(\"The amount is between 800 and 1000\")\n",
    "    elif amount >=600:\n",
    "        print(\"The amount is between 600 and 1000\")\n",
    "    else:\n",
    "        print(\"The amount is between 400 and 1000\")\n",
    "elif amount == 200:\n",
    "    print(\"amount is 200\")\n",
    "else:\n",
    "    print(\"amount is less than 200\")"
   ]
  },
  {
   "cell_type": "code",
   "execution_count": 3,
   "metadata": {},
   "outputs": [
    {
     "data": {
      "text/plain": [
       "'\\nShort hand if statement is used when only one statement needs to be\\nexecuted inside the if block. This statement can be mentioned in the\\nline which holds the if statement.\\n\\nSynta ->\\n\\nif condition:   statement\\n'"
      ]
     },
     "execution_count": 3,
     "metadata": {},
     "output_type": "execute_result"
    }
   ],
   "source": [
    "# Short Hand if-else statement\n",
    "'''\n",
    "Short hand if statement is used when only one statement needs to be\n",
    "executed inside the if block. This statement can be mentioned in the\n",
    "line which holds the if statement.\n",
    "\n",
    "Synta ->\n",
    "\n",
    "if condition:   statement\n",
    "'''"
   ]
  },
  {
   "cell_type": "code",
   "execution_count": 4,
   "metadata": {},
   "outputs": [
    {
     "name": "stdout",
     "output_type": "stream",
     "text": [
      "i is greater\n"
     ]
    }
   ],
   "source": [
    "i =  67\n",
    "# one line if statement\n",
    "if i > 57 : print(\"i is greater\")"
   ]
  },
  {
   "cell_type": "code",
   "execution_count": null,
   "metadata": {},
   "outputs": [],
   "source": [
    "# Short hand if-else statement\n",
    "'''\n",
    "It is used to mention if-else statements in one line in which there\n",
    "is only one statement to execute in both if and else blocks.\n",
    "In simple words, if you have only one\n",
    "'''"
   ]
  }
 ],
 "metadata": {
  "kernelspec": {
   "display_name": "base",
   "language": "python",
   "name": "python3"
  },
  "language_info": {
   "codemirror_mode": {
    "name": "ipython",
    "version": 3
   },
   "file_extension": ".py",
   "mimetype": "text/x-python",
   "name": "python",
   "nbconvert_exporter": "python",
   "pygments_lexer": "ipython3",
   "version": "3.9.12"
  }
 },
 "nbformat": 4,
 "nbformat_minor": 2
}
